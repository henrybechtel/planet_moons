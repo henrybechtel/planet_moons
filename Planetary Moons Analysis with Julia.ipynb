{
 "cells": [
  {
   "cell_type": "markdown",
   "metadata": {},
   "source": [
    "### Planetary Moons Analysis\n",
    "By Henry (and Thomas) Bechtel\n",
    "\n",
    "Exploratory data analysis on factors influencing the number of moons each planet has (done with my 4yo son) "
   ]
  },
  {
   "cell_type": "code",
   "execution_count": 48,
   "metadata": {},
   "outputs": [],
   "source": [
    "using DataFrames, CSV, Plots, PyPlot, MultivariateStats"
   ]
  },
  {
   "cell_type": "markdown",
   "metadata": {},
   "source": [
    "Creating dataframe manually from NASA's Planetary Fact Sheet"
   ]
  },
  {
   "cell_type": "code",
   "execution_count": 49,
   "metadata": {},
   "outputs": [],
   "source": [
    "planetNames = [\"Mercury\", \"Venus\", \"Earth\", \"Mars\", \"Jupiter\", \"Saturn\", \"Uranus\", \"Neptune\", \"Pluto\"]\n",
    "numMoons = [0, 0, 1, 2, 67, 62, 27, 14, 5]\n",
    "planetMass = [0.33, 4.87, 5.97, 0.642, 1898, 568, 86.8, 102, 0.015]\n",
    "distFromSun = [57.9, 108.2, 149.6, 227.9, 778.6, 1433.5, 2872.5, 4495.1, 5906.4];"
   ]
  },
  {
   "cell_type": "code",
   "execution_count": 50,
   "metadata": {
    "scrolled": true
   },
   "outputs": [
    {
     "data": {
      "text/html": [
       "<table class=\"data-frame\"><thead><tr><th></th><th>Planet</th><th>Moons</th><th>Mass</th><th>Dist</th></tr></thead><tbody><tr><th>1</th><td>Mercury</td><td>0</td><td>0.33</td><td>57.9</td></tr><tr><th>2</th><td>Venus</td><td>0</td><td>4.87</td><td>108.2</td></tr><tr><th>3</th><td>Earth</td><td>1</td><td>5.97</td><td>149.6</td></tr><tr><th>4</th><td>Mars</td><td>2</td><td>0.642</td><td>227.9</td></tr><tr><th>5</th><td>Jupiter</td><td>67</td><td>1898.0</td><td>778.6</td></tr><tr><th>6</th><td>Saturn</td><td>62</td><td>568.0</td><td>1433.5</td></tr><tr><th>7</th><td>Uranus</td><td>27</td><td>86.8</td><td>2872.5</td></tr><tr><th>8</th><td>Neptune</td><td>14</td><td>102.0</td><td>4495.1</td></tr><tr><th>9</th><td>Pluto</td><td>5</td><td>0.015</td><td>5906.4</td></tr></tbody></table>"
      ],
      "text/plain": [
       "9×4 DataFrames.DataFrame\n",
       "│ Row │ Planet    │ Moons │ Mass   │ Dist   │\n",
       "├─────┼───────────┼───────┼────────┼────────┤\n",
       "│ 1   │ \"Mercury\" │ 0     │ 0.33   │ 57.9   │\n",
       "│ 2   │ \"Venus\"   │ 0     │ 4.87   │ 108.2  │\n",
       "│ 3   │ \"Earth\"   │ 1     │ 5.97   │ 149.6  │\n",
       "│ 4   │ \"Mars\"    │ 2     │ 0.642  │ 227.9  │\n",
       "│ 5   │ \"Jupiter\" │ 67    │ 1898.0 │ 778.6  │\n",
       "│ 6   │ \"Saturn\"  │ 62    │ 568.0  │ 1433.5 │\n",
       "│ 7   │ \"Uranus\"  │ 27    │ 86.8   │ 2872.5 │\n",
       "│ 8   │ \"Neptune\" │ 14    │ 102.0  │ 4495.1 │\n",
       "│ 9   │ \"Pluto\"   │ 5     │ 0.015  │ 5906.4 │"
      ]
     },
     "execution_count": 50,
     "metadata": {},
     "output_type": "execute_result"
    }
   ],
   "source": [
    "df = DataFrame(Planet = planetNames, Moons = numMoons, Mass = planetMass, Dist = distFromSun)"
   ]
  },
  {
   "cell_type": "markdown",
   "metadata": {},
   "source": [
    "Or... reading in a saved csv"
   ]
  },
  {
   "cell_type": "code",
   "execution_count": 51,
   "metadata": {},
   "outputs": [
    {
     "data": {
      "text/html": [
       "<table class=\"data-frame\"><thead><tr><th></th><th>x</th><th>Num_of_Moons</th><th>Planet_Mass_10_24_kg_</th><th>Dist_from_Sun_10_6_km_</th></tr></thead><tbody><tr><th>1</th><td>Mercury</td><td>0</td><td>0.33</td><td>57.9</td></tr><tr><th>2</th><td>Venus</td><td>0</td><td>4.87</td><td>108.2</td></tr><tr><th>3</th><td>Earth</td><td>1</td><td>5.97</td><td>149.6</td></tr><tr><th>4</th><td>Mars</td><td>2</td><td>0.642</td><td>227.9</td></tr><tr><th>5</th><td>Jupiter</td><td>67</td><td>1898.0</td><td>778.6</td></tr><tr><th>6</th><td>Saturn</td><td>62</td><td>568.0</td><td>1433.5</td></tr><tr><th>7</th><td>Uranus</td><td>27</td><td>86.8</td><td>2872.5</td></tr><tr><th>8</th><td>Neptune</td><td>14</td><td>102.0</td><td>4495.1</td></tr><tr><th>9</th><td>Pluto</td><td>5</td><td>0.015</td><td>5906.4</td></tr></tbody></table>"
      ],
      "text/plain": [
       "9×4 DataFrames.DataFrame\n",
       "│ Row │ x         │ Num_of_Moons │ Planet_Mass_10_24_kg_ │\n",
       "├─────┼───────────┼──────────────┼───────────────────────┤\n",
       "│ 1   │ \"Mercury\" │ 0            │ 0.33                  │\n",
       "│ 2   │ \"Venus\"   │ 0            │ 4.87                  │\n",
       "│ 3   │ \"Earth\"   │ 1            │ 5.97                  │\n",
       "│ 4   │ \"Mars\"    │ 2            │ 0.642                 │\n",
       "│ 5   │ \"Jupiter\" │ 67           │ 1898.0                │\n",
       "│ 6   │ \"Saturn\"  │ 62           │ 568.0                 │\n",
       "│ 7   │ \"Uranus\"  │ 27           │ 86.8                  │\n",
       "│ 8   │ \"Neptune\" │ 14           │ 102.0                 │\n",
       "│ 9   │ \"Pluto\"   │ 5            │ 0.015                 │\n",
       "\n",
       "│ Row │ Dist_from_Sun_10_6_km_ │\n",
       "├─────┼────────────────────────┤\n",
       "│ 1   │ 57.9                   │\n",
       "│ 2   │ 108.2                  │\n",
       "│ 3   │ 149.6                  │\n",
       "│ 4   │ 227.9                  │\n",
       "│ 5   │ 778.6                  │\n",
       "│ 6   │ 1433.5                 │\n",
       "│ 7   │ 2872.5                 │\n",
       "│ 8   │ 4495.1                 │\n",
       "│ 9   │ 5906.4                 │"
      ]
     },
     "execution_count": 51,
     "metadata": {},
     "output_type": "execute_result"
    }
   ],
   "source": [
    "df = readtable(\"PlanetMoons.csv\")"
   ]
  },
  {
   "cell_type": "markdown",
   "metadata": {},
   "source": [
    "I'd like to change the column names for the rest of this analysis"
   ]
  },
  {
   "cell_type": "code",
   "execution_count": 52,
   "metadata": {},
   "outputs": [
    {
     "name": "stdout",
     "output_type": "stream",
     "text": [
      "Symbol[:x, :Num_of_Moons, :Planet_Mass_10_24_kg_, :Dist_from_Sun_10_6_km_]"
     ]
    }
   ],
   "source": [
    "print(names(df))"
   ]
  },
  {
   "cell_type": "code",
   "execution_count": 53,
   "metadata": {},
   "outputs": [
    {
     "data": {
      "text/html": [
       "<table class=\"data-frame\"><thead><tr><th></th><th>Planet</th><th>Moons</th><th>Mass</th><th>Dist</th></tr></thead><tbody><tr><th>1</th><td>Mercury</td><td>0</td><td>0.33</td><td>57.9</td></tr><tr><th>2</th><td>Venus</td><td>0</td><td>4.87</td><td>108.2</td></tr><tr><th>3</th><td>Earth</td><td>1</td><td>5.97</td><td>149.6</td></tr><tr><th>4</th><td>Mars</td><td>2</td><td>0.642</td><td>227.9</td></tr><tr><th>5</th><td>Jupiter</td><td>67</td><td>1898.0</td><td>778.6</td></tr><tr><th>6</th><td>Saturn</td><td>62</td><td>568.0</td><td>1433.5</td></tr><tr><th>7</th><td>Uranus</td><td>27</td><td>86.8</td><td>2872.5</td></tr><tr><th>8</th><td>Neptune</td><td>14</td><td>102.0</td><td>4495.1</td></tr><tr><th>9</th><td>Pluto</td><td>5</td><td>0.015</td><td>5906.4</td></tr></tbody></table>"
      ],
      "text/plain": [
       "9×4 DataFrames.DataFrame\n",
       "│ Row │ Planet    │ Moons │ Mass   │ Dist   │\n",
       "├─────┼───────────┼───────┼────────┼────────┤\n",
       "│ 1   │ \"Mercury\" │ 0     │ 0.33   │ 57.9   │\n",
       "│ 2   │ \"Venus\"   │ 0     │ 4.87   │ 108.2  │\n",
       "│ 3   │ \"Earth\"   │ 1     │ 5.97   │ 149.6  │\n",
       "│ 4   │ \"Mars\"    │ 2     │ 0.642  │ 227.9  │\n",
       "│ 5   │ \"Jupiter\" │ 67    │ 1898.0 │ 778.6  │\n",
       "│ 6   │ \"Saturn\"  │ 62    │ 568.0  │ 1433.5 │\n",
       "│ 7   │ \"Uranus\"  │ 27    │ 86.8   │ 2872.5 │\n",
       "│ 8   │ \"Neptune\" │ 14    │ 102.0  │ 4495.1 │\n",
       "│ 9   │ \"Pluto\"   │ 5     │ 0.015  │ 5906.4 │"
      ]
     },
     "execution_count": 53,
     "metadata": {},
     "output_type": "execute_result"
    }
   ],
   "source": [
    "names!(df, [:Planet, :Moons, :Mass, :Dist])"
   ]
  },
  {
   "cell_type": "markdown",
   "metadata": {},
   "source": [
    "Let's look at the mass of the planet and its relationship with the number of moons, since it seems the most obvious:"
   ]
  },
  {
   "cell_type": "code",
   "execution_count": 54,
   "metadata": {},
   "outputs": [
    {
     "data": {
      "image/png": "[encoded data removed]",
      "text/plain": [
       "PyPlot.Figure(PyObject <matplotlib.figure.Figure object at 0x133d8de50>)"
      ]
     },
     "metadata": {},
     "output_type": "display_data"
    }
   ],
   "source": [
    "PyPlot.scatter(df[:Mass],df[:Moons]);"
   ]
  },
  {
   "cell_type": "markdown",
   "metadata": {},
   "source": [
    "Let's take the square root of the planet's mass to see if that linearizes the realationship"
   ]
  },
  {
   "cell_type": "code",
   "execution_count": 55,
   "metadata": {},
   "outputs": [
    {
     "data": {
      "image/png": "[encoded data removed]",
      "text/plain": [
       "PyPlot.Figure(PyObject <matplotlib.figure.Figure object at 0x13679e2d0>)"
      ]
     },
     "metadata": {},
     "output_type": "display_data"
    }
   ],
   "source": [
    "df[:SqrtMass] = sqrt(df[:Mass])\n",
    "PyPlot.scatter(df[:SqrtMass],df[:Moons]);"
   ]
  },
  {
   "cell_type": "code",
   "execution_count": 56,
   "metadata": {},
   "outputs": [
    {
     "data": {
      "image/png": "[encoded data removed]",
      "text/plain": [
       "PyPlot.Figure(PyObject <matplotlib.figure.Figure object at 0x1367be050>)"
      ]
     },
     "metadata": {},
     "output_type": "display_data"
    }
   ],
   "source": [
    "PyPlot.scatter(df[:Dist],df[:Moons], c=df[:SqrtMass]);"
   ]
  },
  {
   "cell_type": "code",
   "execution_count": 57,
   "metadata": {},
   "outputs": [
    {
     "data": {
      "image/png": "[encoded data removed]",
      "text/plain": [
       "PyPlot.Figure(PyObject <matplotlib.figure.Figure object at 0x136a8b090>)"
      ]
     },
     "metadata": {},
     "output_type": "display_data"
    }
   ],
   "source": [
    "df[:SqrtDist] = sqrt(df[:Dist]);\n",
    "PyPlot.scatter(df[:SqrtDist],df[:Moons], c=df[:SqrtMass]);"
   ]
  },
  {
   "cell_type": "code",
   "execution_count": 58,
   "metadata": {},
   "outputs": [
    {
     "name": "stdout",
     "output_type": "stream",
     "text": [
      "search: \u001b[1ms\u001b[22m\u001b[1mv\u001b[22m\u001b[1md\u001b[22m \u001b[1ms\u001b[22m\u001b[1mv\u001b[22m\u001b[1md\u001b[22ms \u001b[1ms\u001b[22m\u001b[1mv\u001b[22m\u001b[1md\u001b[22mvals \u001b[1ms\u001b[22m\u001b[1mv\u001b[22m\u001b[1md\u001b[22mfact \u001b[1ms\u001b[22m\u001b[1mv\u001b[22m\u001b[1md\u001b[22mvals! \u001b[1ms\u001b[22m\u001b[1mv\u001b[22m\u001b[1md\u001b[22mfact! pca\u001b[1ms\u001b[22m\u001b[1mv\u001b[22m\u001b[1md\u001b[22m cca\u001b[1ms\u001b[22m\u001b[1mv\u001b[22m\u001b[1md\u001b[22m i\u001b[1ms\u001b[22m\u001b[1mv\u001b[22mali\u001b[1md\u001b[22m\n",
      "\n"
     ]
    },
    {
     "data": {
      "text/markdown": [
       "```\n",
       "svd(A; thin::Bool=true) -> U, S, V\n",
       "```\n",
       "\n",
       "Computes the SVD of `A`, returning `U`, vector `S`, and `V` such that `A == U*diagm(S)*V'`. The singular values in `S` are sorted in descending order.\n",
       "\n",
       "If `thin=true` (default), a thin SVD is returned. For a $M \\times N$ matrix `A`, `U` is $M \\times M$ for a full SVD (`thin=false`) and $M \\times \\min(M, N)$ for a thin SVD.\n",
       "\n",
       "`svd` is a wrapper around [`svdfact`](@ref), extracting all parts of the `SVD` factorization to a tuple. Direct use of `svdfact` is therefore more efficient.\n",
       "\n",
       "# Example\n",
       "\n",
       "```jldoctest\n",
       "julia> A = [1. 0. 0. 0. 2.; 0. 0. 3. 0. 0.; 0. 0. 0. 0. 0.; 0. 2. 0. 0. 0.]\n",
       "4×5 Array{Float64,2}:\n",
       " 1.0  0.0  0.0  0.0  2.0\n",
       " 0.0  0.0  3.0  0.0  0.0\n",
       " 0.0  0.0  0.0  0.0  0.0\n",
       " 0.0  2.0  0.0  0.0  0.0\n",
       "\n",
       "julia> U, S, V = svd(A)\n",
       "([0.0 1.0 0.0 0.0; 1.0 0.0 0.0 0.0; 0.0 0.0 0.0 -1.0; 0.0 0.0 1.0 0.0], [3.0, 2.23607, 2.0, 0.0], [-0.0 0.447214 -0.0 0.0; 0.0 0.0 1.0 0.0; … ; -0.0 0.0 -0.0 1.0; 0.0 0.894427 0.0 0.0])\n",
       "\n",
       "julia> U*diagm(S)*V'\n",
       "4×5 Array{Float64,2}:\n",
       " 1.0  0.0  0.0  0.0  2.0\n",
       " 0.0  0.0  3.0  0.0  0.0\n",
       " 0.0  0.0  0.0  0.0  0.0\n",
       " 0.0  2.0  0.0  0.0  0.0\n",
       "```\n",
       "\n",
       "```\n",
       "svd(A, B) -> U, V, Q, D1, D2, R0\n",
       "```\n",
       "\n",
       "Wrapper around [`svdfact`](@ref) extracting all parts of the factorization to a tuple. Direct use of `svdfact` is therefore generally more efficient. The function returns the generalized SVD of `A` and `B`, returning `U`, `V`, `Q`, `D1`, `D2`, and `R0` such that `A = U*D1*R0*Q'` and `B = V*D2*R0*Q'`.\n"
      ],
      "text/plain": [
       "```\n",
       "svd(A; thin::Bool=true) -> U, S, V\n",
       "```\n",
       "\n",
       "Computes the SVD of `A`, returning `U`, vector `S`, and `V` such that `A == U*diagm(S)*V'`. The singular values in `S` are sorted in descending order.\n",
       "\n",
       "If `thin=true` (default), a thin SVD is returned. For a $M \\times N$ matrix `A`, `U` is $M \\times M$ for a full SVD (`thin=false`) and $M \\times \\min(M, N)$ for a thin SVD.\n",
       "\n",
       "`svd` is a wrapper around [`svdfact`](@ref), extracting all parts of the `SVD` factorization to a tuple. Direct use of `svdfact` is therefore more efficient.\n",
       "\n",
       "# Example\n",
       "\n",
       "```jldoctest\n",
       "julia> A = [1. 0. 0. 0. 2.; 0. 0. 3. 0. 0.; 0. 0. 0. 0. 0.; 0. 2. 0. 0. 0.]\n",
       "4×5 Array{Float64,2}:\n",
       " 1.0  0.0  0.0  0.0  2.0\n",
       " 0.0  0.0  3.0  0.0  0.0\n",
       " 0.0  0.0  0.0  0.0  0.0\n",
       " 0.0  2.0  0.0  0.0  0.0\n",
       "\n",
       "julia> U, S, V = svd(A)\n",
       "([0.0 1.0 0.0 0.0; 1.0 0.0 0.0 0.0; 0.0 0.0 0.0 -1.0; 0.0 0.0 1.0 0.0], [3.0, 2.23607, 2.0, 0.0], [-0.0 0.447214 -0.0 0.0; 0.0 0.0 1.0 0.0; … ; -0.0 0.0 -0.0 1.0; 0.0 0.894427 0.0 0.0])\n",
       "\n",
       "julia> U*diagm(S)*V'\n",
       "4×5 Array{Float64,2}:\n",
       " 1.0  0.0  0.0  0.0  2.0\n",
       " 0.0  0.0  3.0  0.0  0.0\n",
       " 0.0  0.0  0.0  0.0  0.0\n",
       " 0.0  2.0  0.0  0.0  0.0\n",
       "```\n",
       "\n",
       "```\n",
       "svd(A, B) -> U, V, Q, D1, D2, R0\n",
       "```\n",
       "\n",
       "Wrapper around [`svdfact`](@ref) extracting all parts of the factorization to a tuple. Direct use of `svdfact` is therefore generally more efficient. The function returns the generalized SVD of `A` and `B`, returning `U`, `V`, `Q`, `D1`, `D2`, and `R0` such that `A = U*D1*R0*Q'` and `B = V*D2*R0*Q'`.\n"
      ]
     },
     "execution_count": 58,
     "metadata": {},
     "output_type": "execute_result"
    }
   ],
   "source": [
    "?svd"
   ]
  },
  {
   "cell_type": "code",
   "execution_count": 59,
   "metadata": {},
   "outputs": [
    {
     "data": {
      "text/html": [
       "<table class=\"data-frame\"><thead><tr><th></th><th>Moons</th><th>SqrtMass</th><th>SqrtDist</th></tr></thead><tbody><tr><th>1</th><td>0</td><td>0.5744562646538028</td><td>7.60920495189872</td></tr><tr><th>2</th><td>0</td><td>2.2068076490713913</td><td>10.401922899156675</td></tr><tr><th>3</th><td>1</td><td>2.4433583445741234</td><td>12.231107881136523</td></tr><tr><th>4</th><td>2</td><td>0.8012490249604052</td><td>15.096357176484664</td></tr><tr><th>5</th><td>67</td><td>43.56604182158393</td><td>27.903404810166087</td></tr><tr><th>6</th><td>62</td><td>23.83275057562597</td><td>37.8615900352851</td></tr><tr><th>7</th><td>27</td><td>9.316651759081692</td><td>53.59570878344646</td></tr><tr><th>8</th><td>14</td><td>10.099504938362077</td><td>67.04550693372376</td></tr><tr><th>9</th><td>5</td><td>0.1224744871391589</td><td>76.85310663857382</td></tr></tbody></table>"
      ],
      "text/plain": [
       "9×3 DataFrames.DataFrame\n",
       "│ Row │ Moons │ SqrtMass │ SqrtDist │\n",
       "├─────┼───────┼──────────┼──────────┤\n",
       "│ 1   │ 0     │ 0.574456 │ 7.6092   │\n",
       "│ 2   │ 0     │ 2.20681  │ 10.4019  │\n",
       "│ 3   │ 1     │ 2.44336  │ 12.2311  │\n",
       "│ 4   │ 2     │ 0.801249 │ 15.0964  │\n",
       "│ 5   │ 67    │ 43.566   │ 27.9034  │\n",
       "│ 6   │ 62    │ 23.8328  │ 37.8616  │\n",
       "│ 7   │ 27    │ 9.31665  │ 53.5957  │\n",
       "│ 8   │ 14    │ 10.0995  │ 67.0455  │\n",
       "│ 9   │ 5     │ 0.122474 │ 76.8531  │"
      ]
     },
     "execution_count": 59,
     "metadata": {},
     "output_type": "execute_result"
    }
   ],
   "source": [
    "X = df[:,[:Moons, :SqrtMass, :SqrtDist]]"
   ]
  },
  {
   "cell_type": "code",
   "execution_count": 77,
   "metadata": {},
   "outputs": [
    {
     "ename": "LoadError",
     "evalue": "\u001b[91mMethodError: Cannot `convert` an object of type DataArrays.DataArray{Int64,1} to an object of type Float64\nThis may have arisen from a call to the constructor Float64(...),\nsince type constructors fall back to convert methods.\u001b[39m",
     "output_type": "error",
     "traceback": [
      "\u001b[91mMethodError: Cannot `convert` an object of type DataArrays.DataArray{Int64,1} to an object of type Float64\nThis may have arisen from a call to the constructor Float64(...),\nsince type constructors fall back to convert methods.\u001b[39m",
      "",
      "Stacktrace:",
      " [1] \u001b[1mFloat64\u001b[22m\u001b[22m\u001b[1m(\u001b[22m\u001b[22m::DataArrays.DataArray{Int64,1}\u001b[1m)\u001b[22m\u001b[22m at \u001b[1m./sysimg.jl:77\u001b[22m\u001b[22m",
      " [2] \u001b[1minclude_string\u001b[22m\u001b[22m\u001b[1m(\u001b[22m\u001b[22m::String, ::String\u001b[1m)\u001b[22m\u001b[22m at \u001b[1m./loading.jl:522\u001b[22m\u001b[22m"
     ]
    }
   ],
   "source": [
    "Xstd = copy(X)\n",
    "Xstd[:Moons]=Float64(Xstd[:Moons])\n",
    "\n",
    "for i in 1:nrow(X)\n",
    "    for j in 1:ncol(X)\n",
    "        Xstd[i,j] = (X[i,j]-mean(X[:,j]))/std(X[:,j])\n",
    "    end\n",
    "end"
   ]
  },
  {
   "cell_type": "code",
   "execution_count": 61,
   "metadata": {},
   "outputs": [
    {
     "data": {
      "text/plain": [
       "1"
      ]
     },
     "execution_count": 61,
     "metadata": {},
     "output_type": "execute_result"
    }
   ],
   "source": [
    "i=1\n",
    "j=1"
   ]
  },
  {
   "cell_type": "code",
   "execution_count": 72,
   "metadata": {},
   "outputs": [
    {
     "data": {
      "text/plain": [
       "0.0f0"
      ]
     },
     "execution_count": 72,
     "metadata": {},
     "output_type": "execute_result"
    }
   ],
   "source": [
    "Float32(Xstd[i,j])"
   ]
  },
  {
   "cell_type": "code",
   "execution_count": 80,
   "metadata": {},
   "outputs": [
    {
     "name": "stdout",
     "output_type": "stream",
     "text": [
      "9×3 DataFrames.DataFrame\n",
      "│ Col # │ Name     │ Eltype  │ Missing │\n",
      "├───────┼──────────┼─────────┼─────────┤\n",
      "│ 1     │ Moons    │ Int64   │ 0       │\n",
      "│ 2     │ SqrtMass │ Float64 │ 0       │\n",
      "│ 3     │ SqrtDist │ Float64 │ 0       │"
     ]
    }
   ],
   "source": [
    "showcols(Xstd)"
   ]
  },
  {
   "cell_type": "code",
   "execution_count": 81,
   "metadata": {},
   "outputs": [
    {
     "data": {
      "text/plain": [
       "int_to_float (generic function with 1 method)"
      ]
     },
     "execution_count": 81,
     "metadata": {},
     "output_type": "execute_result"
    }
   ],
   "source": [
    "int_to_float(str) = try convert(Int64, Float64) catch return(NA) end"
   ]
  },
  {
   "cell_type": "code",
   "execution_count": 83,
   "metadata": {},
   "outputs": [
    {
     "data": {
      "text/plain": [
       "9-element DataArrays.DataArray{DataArrays.NAtype,1}:\n",
       " NA\n",
       " NA\n",
       " NA\n",
       " NA\n",
       " NA\n",
       " NA\n",
       " NA\n",
       " NA\n",
       " NA"
      ]
     },
     "execution_count": 83,
     "metadata": {},
     "output_type": "execute_result"
    }
   ],
   "source": [
    "Xstd[:Moons] = map(int_to_float, Xstd[:Moons])"
   ]
  },
  {
   "cell_type": "code",
   "execution_count": null,
   "metadata": {},
   "outputs": [],
   "source": []
  }
 ],
 "metadata": {
  "kernelspec": {
   "display_name": "Julia 0.6.2",
   "language": "julia",
   "name": "julia-0.6"
  },
  "language_info": {
   "file_extension": ".jl",
   "mimetype": "application/julia",
   "name": "julia",
   "version": "0.6.2"
  }
 },
 "nbformat": 4,
 "nbformat_minor": 2
}
